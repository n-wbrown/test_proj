{
 "cells": [
  {
   "cell_type": "markdown",
   "metadata": {},
   "source": [
    "0.0 Notebook Template\n",
    "===========\n",
    "\n",
    "Describe the background of the module and purpose of the notebook."
   ]
  },
  {
   "cell_type": "code",
   "execution_count": null,
   "metadata": {
    "collapsed": true
   },
   "outputs": [],
   "source": [
    "# Jupyter Notebook Settings\n",
    "# This makes it so functions are automatically reloaded everytime they are \n",
    "# called, that way it isn't necessary to rerun the whole notebook after\n",
    "# every change\n",
    "\n",
    "# Load the \"autoreload\" extension\n",
    "%load_ext autoreload\n",
    "# always reload modules marked with \"%aimport\". 'autoreload 2' will set \n",
    "# everything to be autoreloaded except for what has %aimport\n",
    "%autoreload 1\n",
    "# Load matplotlib plots in interactive notebook mode\n",
    "%matplotlib notebook"
   ]
  },
  {
   "cell_type": "code",
   "execution_count": null,
   "metadata": {
    "collapsed": true
   },
   "outputs": [],
   "source": [
    "############\n",
    "# Standard #\n",
    "############\n",
    "import logging\n",
    "\n",
    "###############\n",
    "# Third Party #\n",
    "###############\n",
    "\n",
    "########\n",
    "# SLAC #\n",
    "########\n",
    "\n",
    "##########\n",
    "# Module #\n",
    "##########\n",
    "%aimport src.utils\n",
    "from src.utils import setup_logging"
   ]
  },
  {
   "cell_type": "code",
   "execution_count": null,
   "metadata": {
    "collapsed": true
   },
   "outputs": [],
   "source": [
    "# Global Definitions\n",
    "\n",
    "# Setup logging properly\n",
    "setup_logging()\n",
    "logger = logging.getLogger(\"src\")\n",
    "\n",
    "# ----------------------------------------\n",
    "# Define any other global definitions here\n",
    "# ----------------------------------------\n",
    "\n"
   ]
  },
  {
   "cell_type": "code",
   "execution_count": null,
   "metadata": {
    "collapsed": true
   },
   "outputs": [],
   "source": []
  }
 ],
 "metadata": {
  "anaconda-cloud": {},
  "kernelspec": {
   "display_name": "Python 3",
   "language": "python",
   "name": "python3"
  },
  "language_info": {
   "codemirror_mode": {
    "name": "ipython",
    "version": 3
   },
   "file_extension": ".py",
   "mimetype": "text/x-python",
   "name": "python",
   "nbconvert_exporter": "python",
   "pygments_lexer": "ipython3",
   "version": "3.6.3"
  }
 },
 "nbformat": 4,
 "nbformat_minor": 2
}
